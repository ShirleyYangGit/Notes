{
 "cells": [
  {
   "cell_type": "markdown",
   "metadata": {},
   "source": [
    "# Python作用域\n",
    "  \n",
    "什么是作用域？根据写程序的实践经验，我们知道，作用域是针对变量来说的。它就像一个盒子，规定了变量的作用范围和生命周期。\n"
   ]
  },
  {
   "cell_type": "markdown",
   "metadata": {},
   "source": [
    "\n",
    "## 作用域的产生\n",
    "\n",
    "就作用域而言，Python与C、Java有着很大的区别。在Java中作用域是根据`{}`来划分的。但在Python中，没有`{}`，那是不是根据缩进来划分呢？答案是**NO**。\n",
    "Python并不是所有的语句块中都会产生作用域。只有当变量在**Module**(模块)、**Class**(类)、**def**(函数)中定义的时候，才会有作用域的概念。看下面代码：\n"
   ]
  },
  {
   "cell_type": "code",
   "execution_count": 1,
   "metadata": {
    "scrolled": true
   },
   "outputs": [
    {
     "ename": "NameError",
     "evalue": "name 'variable' is not defined",
     "output_type": "error",
     "traceback": [
      "\u001b[0;31m---------------------------------------------------------------------------\u001b[0m",
      "\u001b[0;31mNameError\u001b[0m                                 Traceback (most recent call last)",
      "\u001b[0;32m<ipython-input-1-dd87b65973f9>\u001b[0m in \u001b[0;36m<module>\u001b[0;34m\u001b[0m\n\u001b[1;32m      2\u001b[0m     \u001b[0mvariable\u001b[0m \u001b[0;34m=\u001b[0m \u001b[0;36m100\u001b[0m\u001b[0;34m\u001b[0m\u001b[0;34m\u001b[0m\u001b[0m\n\u001b[1;32m      3\u001b[0m     \u001b[0mprint\u001b[0m\u001b[0;34m(\u001b[0m\u001b[0mvariable\u001b[0m\u001b[0;34m)\u001b[0m\u001b[0;34m\u001b[0m\u001b[0;34m\u001b[0m\u001b[0m\n\u001b[0;32m----> 4\u001b[0;31m \u001b[0mprint\u001b[0m\u001b[0;34m(\u001b[0m\u001b[0mvariable\u001b[0m\u001b[0;34m)\u001b[0m\u001b[0;34m\u001b[0m\u001b[0;34m\u001b[0m\u001b[0m\n\u001b[0m",
      "\u001b[0;31mNameError\u001b[0m: name 'variable' is not defined"
     ]
    }
   ],
   "source": [
    "def func():\n",
    "    variable = 100\n",
    "    print(variable)\n",
    "print(variable)"
   ]
  },
  {
   "cell_type": "markdown",
   "metadata": {},
   "source": [
    "在作用域中定义的变量，一般只在作用域中有效。 需要注意的是：在`if-elif-else`、`for-else、while`、`try-except\\try-finally`等关键字的语句块中并不会产成作用域。看下面的代码："
   ]
  },
  {
   "cell_type": "code",
   "execution_count": 2,
   "metadata": {},
   "outputs": [
    {
     "name": "stdout",
     "output_type": "stream",
     "text": [
      "100\n",
      "******\n",
      "100\n"
     ]
    }
   ],
   "source": [
    "if True:\n",
    "    variable = 100\n",
    "    print (variable)\n",
    "print (\"******\")\n",
    "print (variable)"
   ]
  },
  {
   "cell_type": "markdown",
   "metadata": {},
   "source": [
    "## LEGB\n",
    "\n",
    "先看一段代码："
   ]
  },
  {
   "cell_type": "code",
   "execution_count": 3,
   "metadata": {},
   "outputs": [
    {
     "name": "stdout",
     "output_type": "stream",
     "text": [
      "15\n",
      "global PI variable can be accessiable\n",
      "built in varialbe 3.141592653589793 can be accessiable\n"
     ]
    }
   ],
   "source": [
    "# example.py\n",
    "from math import pi\n",
    "\n",
    "PI = \"global PI variable\"\n",
    "\n",
    "class A():\n",
    "    \n",
    "    def __init__(self, x):\n",
    "        self.x = x\n",
    "    \n",
    "    def add(self, y):\n",
    "        return self.x + y\n",
    "    \n",
    "    def get_global(self):\n",
    "        if True:\n",
    "            s = \"can be accessiable\"\n",
    "        print(PI, s)\n",
    "    def get_built_in(self):\n",
    "        if True:\n",
    "            s = \"can be accessiable\"\n",
    "        print(\"built in varialbe\", pi, s)\n",
    "    \n",
    "\n",
    "a = A(10)\n",
    "print(a.add(5))\n",
    "a.get_global()\n",
    "a.get_built_in()\n"
   ]
  },
  {
   "cell_type": "markdown",
   "metadata": {},
   "source": [
    "为了更好的描述和理解作用域间的查找规则，程序员将作用域进行了分类，简称为**LEGB**\n",
    "\n",
    "- Local Scope(局部作用域)：在类、函数中定义的变量，比如：`get_global_pi`函数中的变量`s = \"can be accessiable\"`\n",
    "- Enclosed Scope(闭包作用域)：嵌套函数中，外层函数被内层函数调用的变量，比如：下面代码中outer函数中定义的变量`pi = 'outer pi variable'`\n",
    "- Global Scope(全局作用域)：在类、函数之外的，又在文件之中的变量，比如：全局变量`PI = \"global PI variable\"`\n",
    "- Built-in Scope(内建作用域)：从别的模块中`import`的变量，比如：`from math import pi`中的变量`pi`"
   ]
  },
  {
   "cell_type": "code",
   "execution_count": 4,
   "metadata": {},
   "outputs": [
    {
     "name": "stdout",
     "output_type": "stream",
     "text": [
      "outer pi variable\n",
      "outer pi variable\n",
      "global pi variable\n"
     ]
    }
   ],
   "source": [
    "# Enclosed Scope\n",
    "\n",
    "pi = 'global pi variable'\n",
    "  \n",
    "def outer(): \n",
    "    pi = 'outer pi variable'\n",
    "    x = 5\n",
    "    def inner(): \n",
    "        # pi = 'inner pi variable' \n",
    "        print(pi) \n",
    "    inner() \n",
    "    print(pi)\n",
    "\n",
    "outer()\n",
    "print(pi)"
   ]
  },
  {
   "cell_type": "markdown",
   "metadata": {},
   "source": [
    "为什么要这样划分呢？我们可以从下面的例子中来亲身感受下作用域的规则。\n",
    "\n",
    "### 局部作用域和全局作用域"
   ]
  },
  {
   "cell_type": "code",
   "execution_count": 5,
   "metadata": {},
   "outputs": [
    {
     "name": "stdout",
     "output_type": "stream",
     "text": [
      "15\n"
     ]
    }
   ],
   "source": [
    "x = 15\n",
    "\n",
    "def foo():\n",
    "    print(x)\n",
    "\n",
    "foo()"
   ]
  },
  {
   "cell_type": "markdown",
   "metadata": {},
   "source": [
    "在函数的局部作用域中，可以访问到全局作用域中的变量`x`。需要注意的是，函数`foo`里是去读`x`，为什么要强调这个呢，看下面这个函数就知道了。"
   ]
  },
  {
   "cell_type": "code",
   "execution_count": 6,
   "metadata": {},
   "outputs": [
    {
     "name": "stdout",
     "output_type": "stream",
     "text": [
      "20\n",
      "15\n"
     ]
    }
   ],
   "source": [
    "y = 15\n",
    "\n",
    "def modify1():\n",
    "    y = 20\n",
    "    print(y)\n",
    "\n",
    "modify1()\n",
    "print(y)"
   ]
  },
  {
   "cell_type": "markdown",
   "metadata": {},
   "source": [
    "我们可以看到，在`modify1`函数中对`y`变量进行赋值，但是在全局作用域中打印`y`的值，发现全局变量`y`并没有被修改。这是为什么呢？带着这个疑问，我们再看看下面的`modify2`函数。"
   ]
  },
  {
   "cell_type": "code",
   "execution_count": 7,
   "metadata": {},
   "outputs": [
    {
     "ename": "UnboundLocalError",
     "evalue": "local variable 'z' referenced before assignment",
     "output_type": "error",
     "traceback": [
      "\u001b[0;31m---------------------------------------------------------------------------\u001b[0m",
      "\u001b[0;31mUnboundLocalError\u001b[0m                         Traceback (most recent call last)",
      "\u001b[0;32m<ipython-input-7-713189dae8a7>\u001b[0m in \u001b[0;36m<module>\u001b[0;34m\u001b[0m\n\u001b[1;32m      5\u001b[0m     \u001b[0mprint\u001b[0m\u001b[0;34m(\u001b[0m\u001b[0mz\u001b[0m\u001b[0;34m)\u001b[0m\u001b[0;34m\u001b[0m\u001b[0;34m\u001b[0m\u001b[0m\n\u001b[1;32m      6\u001b[0m \u001b[0;34m\u001b[0m\u001b[0m\n\u001b[0;32m----> 7\u001b[0;31m \u001b[0mmodify2\u001b[0m\u001b[0;34m(\u001b[0m\u001b[0;34m)\u001b[0m\u001b[0;34m\u001b[0m\u001b[0;34m\u001b[0m\u001b[0m\n\u001b[0m\u001b[1;32m      8\u001b[0m \u001b[0mprint\u001b[0m\u001b[0;34m(\u001b[0m\u001b[0mz\u001b[0m\u001b[0;34m)\u001b[0m\u001b[0;34m\u001b[0m\u001b[0;34m\u001b[0m\u001b[0m\n",
      "\u001b[0;32m<ipython-input-7-713189dae8a7>\u001b[0m in \u001b[0;36mmodify2\u001b[0;34m()\u001b[0m\n\u001b[1;32m      2\u001b[0m \u001b[0;34m\u001b[0m\u001b[0m\n\u001b[1;32m      3\u001b[0m \u001b[0;32mdef\u001b[0m \u001b[0mmodify2\u001b[0m\u001b[0;34m(\u001b[0m\u001b[0;34m)\u001b[0m\u001b[0;34m:\u001b[0m\u001b[0;34m\u001b[0m\u001b[0;34m\u001b[0m\u001b[0m\n\u001b[0;32m----> 4\u001b[0;31m     \u001b[0mz\u001b[0m \u001b[0;34m+=\u001b[0m \u001b[0;36m20\u001b[0m\u001b[0;34m\u001b[0m\u001b[0;34m\u001b[0m\u001b[0m\n\u001b[0m\u001b[1;32m      5\u001b[0m     \u001b[0mprint\u001b[0m\u001b[0;34m(\u001b[0m\u001b[0mz\u001b[0m\u001b[0;34m)\u001b[0m\u001b[0;34m\u001b[0m\u001b[0;34m\u001b[0m\u001b[0m\n\u001b[1;32m      6\u001b[0m \u001b[0;34m\u001b[0m\u001b[0m\n",
      "\u001b[0;31mUnboundLocalError\u001b[0m: local variable 'z' referenced before assignment"
     ]
    }
   ],
   "source": [
    "z = 15\n",
    "\n",
    "def modify2():\n",
    "    z += 20\n",
    "    print(z)\n",
    "\n",
    "modify2()\n",
    "print(z)"
   ]
  },
  {
   "cell_type": "markdown",
   "metadata": {},
   "source": [
    "为什么会报`UnboundLocalError`呢？为了更好的分析，我们可以借助`dis`模块，通过`dis.dis()`来反汇编编译过的Python代码对象、字符串包含的源代码，显示出一个人类可读的版本。"
   ]
  },
  {
   "cell_type": "code",
   "execution_count": 8,
   "metadata": {},
   "outputs": [
    {
     "name": "stdout",
     "output_type": "stream",
     "text": [
      "foo\n",
      "  4           0 LOAD_GLOBAL              0 (print)\n",
      "              2 LOAD_GLOBAL              1 (x)\n",
      "              4 CALL_FUNCTION            1\n",
      "              6 POP_TOP\n",
      "              8 LOAD_CONST               0 (None)\n",
      "             10 RETURN_VALUE\n",
      "modify1\n",
      "  4           0 LOAD_CONST               1 (20)\n",
      "              2 STORE_FAST               0 (y)\n",
      "\n",
      "  5           4 LOAD_GLOBAL              0 (print)\n",
      "              6 LOAD_FAST                0 (y)\n",
      "              8 CALL_FUNCTION            1\n",
      "             10 POP_TOP\n",
      "             12 LOAD_CONST               0 (None)\n",
      "             14 RETURN_VALUE\n",
      "modify2\n",
      "  4           0 LOAD_FAST                0 (z)\n",
      "              2 LOAD_CONST               1 (20)\n",
      "              4 INPLACE_ADD\n",
      "              6 STORE_FAST               0 (z)\n",
      "\n",
      "  5           8 LOAD_GLOBAL              0 (print)\n",
      "             10 LOAD_FAST                0 (z)\n",
      "             12 CALL_FUNCTION            1\n",
      "             14 POP_TOP\n",
      "             16 LOAD_CONST               0 (None)\n",
      "             18 RETURN_VALUE\n"
     ]
    }
   ],
   "source": [
    "import dis\n",
    "\n",
    "print(\"foo\")\n",
    "dis.dis(foo)\n",
    "print(\"modify1\")\n",
    "dis.dis(modify1)\n",
    "print(\"modify2\")\n",
    "dis.dis(modify2)"
   ]
  },
  {
   "cell_type": "markdown",
   "metadata": {},
   "source": [
    "`modify2`函数报`UnboundLocalError`的根本原因是`LOAD_FAST`在`STORE_FAST`之前被调用了，也就是参数`z`在赋值之前被引用。那为什么CPython解释器知道使用`LOAD_FAST`而不是`LOAD_GLOBAL`? 也就是说为什么在编译阶段，CPython解释器就知道去就知道去哪个作用域找对应的变量了呢？\n",
    "\n",
    "> One of the stages in the compilation of Python into bytecode is building the symbol table [[1]](https://eli.thegreenplace.net/2011/05/15/understanding-unboundlocalerror-in-python#id10). An important goal of building the symbol table is for Python to be able to mark the scope of variables it encounters - which variables are local to functions, which are global, which are free (lexically bound) and so on.\n",
    "\n",
    "原来在将Python代码编译成字节码中，有一个阶段是构建**符号表**。构建符号表的一个重要目标是让Python能够标记它遇到的变量的范围，可以理解为，标记哪些变量是函数的局部变量，哪些是全局变量，哪些是自由变量(按词法绑定)，等等。\n",
    "\n",
    "在生成字节码命令的时候，解释器遇到变量的时候，会去**符号表**查询该变量的标记，如果是标记是`Local`,那么加载该变量的指令就是`LOAD_FAST`；如果标记是非`Local`，那么就会去别的作用域找该变量，全局变量的加载指令就是`LOAD_GLOBAL`。\n",
    "\n",
    "我们可以用`symtable`模块来查看`modify2`代码在编译成字节码的时候，添加到符号表里内容。"
   ]
  },
  {
   "cell_type": "code",
   "execution_count": 9,
   "metadata": {},
   "outputs": [
    {
     "name": "stdout",
     "output_type": "stream",
     "text": [
      "z\n",
      "True\n"
     ]
    }
   ],
   "source": [
    "import symtable\n",
    "\n",
    "code = '''\n",
    "z = 15\n",
    "\n",
    "def modify2():\n",
    "    z += 20\n",
    "    print(z)\n",
    "'''\n",
    "\n",
    "table = symtable.symtable(code, '<string>', 'exec')\n",
    "\n",
    "foo_namespace = table.lookup('modify2').get_namespace()\n",
    "sym_x = foo_namespace.lookup('z')\n",
    "\n",
    "print(sym_x.get_name())\n",
    "print(sym_x.is_local()) "
   ]
  },
  {
   "cell_type": "markdown",
   "metadata": {},
   "source": [
    "我们可以看到，`z`变量被标记为`modify2`函数的`Local`作用域。将变量标记为`Local`对于字节码的优化非常重要，因为编译器可以为它生成一条执行起来非常快的特殊指令。在这里我们只关注结果，就不深入地解释这个主题了。\n",
    "\n",
    "### global关键字"
   ]
  },
  {
   "cell_type": "code",
   "execution_count": 10,
   "metadata": {},
   "outputs": [
    {
     "name": "stdout",
     "output_type": "stream",
     "text": [
      "20\n",
      "20\n"
     ]
    }
   ],
   "source": [
    "z = 15\n",
    "\n",
    "def modify_global():\n",
    "    global z\n",
    "    z = 20\n",
    "    print(z)\n",
    "modify_global()\n",
    "print(z)"
   ]
  },
  {
   "cell_type": "code",
   "execution_count": 11,
   "metadata": {},
   "outputs": [
    {
     "name": "stdout",
     "output_type": "stream",
     "text": [
      "34\n",
      "34\n"
     ]
    }
   ],
   "source": [
    "def modify_define_global():\n",
    "    global var\n",
    "    var = 34\n",
    "    print(var)\n",
    "modify_define_global()\n",
    "print(var)"
   ]
  },
  {
   "cell_type": "markdown",
   "metadata": {},
   "source": [
    "### nonlocal 关键字\n",
    "\n",
    "`nonlocal`关键字可以用来绑定闭包作用域中的变量。"
   ]
  },
  {
   "cell_type": "code",
   "execution_count": 12,
   "metadata": {},
   "outputs": [
    {
     "name": "stdout",
     "output_type": "stream",
     "text": [
      "hello world! This is inner_2\n",
      "free vars: x=inner_x, y=inner_1\n",
      "inner_1\n",
      "inner_x\n"
     ]
    }
   ],
   "source": [
    "def outer(x):\n",
    "    def inner_1(y):\n",
    "        def inner_2(z):\n",
    "            nonlocal x\n",
    "            x = \"inner_x\"\n",
    "            print(\"hello world! This is\", z)\n",
    "            print(\"free vars: x={}, y={}\".format(x, y))\n",
    "        inner_2(\"inner_2\")\n",
    "        print(y) \n",
    "    inner_1(\"inner_1\")\n",
    "    print(x)\n",
    "\n",
    "outer(\"outer\")"
   ]
  },
  {
   "cell_type": "markdown",
   "metadata": {},
   "source": [
    "但是`nonlocal`的关键字是在Python3中才存在的，Python2中没有。那在Python2中，如果需要对上层的值进行修改，就需要使用`dict`之类的对象绕过赋值语句的限制了。示例如下："
   ]
  },
  {
   "cell_type": "code",
   "execution_count": 13,
   "metadata": {},
   "outputs": [
    {
     "name": "stdout",
     "output_type": "stream",
     "text": [
      "{'x': 3, 'y': 4} [1, 2, 5]\n",
      "{'x': 3, 'y': 4} [1, 2, 5]\n"
     ]
    }
   ],
   "source": [
    "def outer():\n",
    "    d = {\"x\": 1, \"y\": 2}\n",
    "    l = [1,2]\n",
    "    def inner():\n",
    "        d[\"x\"] = 3\n",
    "        d[\"y\"] = 4\n",
    "        l.append(5)\n",
    "        print(d,l)\n",
    "    inner()\n",
    "    print(d, l)\n",
    "outer()\n",
    "# dis.dis(outer)"
   ]
  },
  {
   "cell_type": "markdown",
   "metadata": {},
   "source": [
    "## 闭包\n",
    "\n",
    "对于嵌套函数，它可以访问到其外层作用域中声明的非局部（non-local）变量。比如下面示例代码中，变量`msg`可以被嵌套函数`printer`正常访问。"
   ]
  },
  {
   "cell_type": "code",
   "execution_count": 14,
   "metadata": {},
   "outputs": [
    {
     "name": "stdout",
     "output_type": "stream",
     "text": [
      "zen of python\n"
     ]
    }
   ],
   "source": [
    "def print_msg():\n",
    "    # print_msg 是外围函数\n",
    "    msg = \"zen of python\"\n",
    "\n",
    "    def printer():\n",
    "        # printer是嵌套函数\n",
    "        print(msg)\n",
    "    printer()\n",
    "# 输出 zen of python\n",
    "print_msg()"
   ]
  },
  {
   "cell_type": "markdown",
   "metadata": {},
   "source": [
    "那么有没有一种可能即使脱离了函数本身的作用范围，局部变量还可以被访问得到呢？答案是闭包。\n",
    "\n",
    "### 什么是闭包\n",
    "\n",
    "函数身为第一类对象，它可以作为函数的返回值返回，现在我们来考虑如下的例子："
   ]
  },
  {
   "cell_type": "code",
   "execution_count": 15,
   "metadata": {},
   "outputs": [
    {
     "name": "stdout",
     "output_type": "stream",
     "text": [
      "zen of python\n"
     ]
    }
   ],
   "source": [
    "def print_msg():\n",
    "    # print_msg 是外围函数\n",
    "    msg = \"zen of python\"\n",
    "    def printer():\n",
    "        # printer 是嵌套函数\n",
    "        print(msg)\n",
    "    return printer\n",
    "\n",
    "another = print_msg()\n",
    "# 输出 zen of python\n",
    "another()"
   ]
  },
  {
   "cell_type": "markdown",
   "metadata": {},
   "source": [
    "这段代码和前面例子的效果完全一样，同样输出`\"zen of python\"`。不同的地方在于内部函数`printer`直接作为返回值返回了。\n",
    "\n",
    "一般情况下，函数中的局部变量仅在函数的执行期间可用，一旦`print_msg()`执行过后，我们会认为 msg变量将不再可用。然而，在这里我们发现 `print_msg`执行完之后，在调用`another`的时候`msg`变量的值正常输出了，这就是闭包的作用，闭包使得局部变量在函数外被访问成为可能。\n",
    "\n",
    "看完这个例子，我们再来定义闭包，维基百科上的解释是:\n",
    "\n",
    "> 在计算机科学中，闭包（Closure）是词法闭包（Lexical Closure）的简称，是引用了自由变量的函数。这个被引用的自由变量将和这个函数一同存在，即使已经离开了创造它的环境也不例外。所以，有另一种说法认为闭包是由函数和与其相关的引用环境组合而成的实体。\n",
    "\n",
    "这里的`another`就是一个闭包，闭包本质上是一个函数，它有两部分组成，`printer`函数和变量`msg`。闭包使得这些变量的值始终保存在内存中。\n",
    "\n",
    "闭包，顾名思义，就是一个封闭的包裹，里面包裹着自由变量，就像在类里面定义的属性值一样，自由变量的可见范围随同包裹，哪里可以访问到这个包裹，哪里就可以访问到这个自由变量。\n",
    "\n",
    "所有函数都有一个`__closure__`属性，如果这个函数是一个闭包的话，那么它返回的是一个由`cell`对象组成的元组对象。`cell`对象`cell_contents`属性就是闭包中的自由变量。我们可以观察下"
   ]
  },
  {
   "cell_type": "code",
   "execution_count": 16,
   "metadata": {},
   "outputs": [
    {
     "name": "stdout",
     "output_type": "stream",
     "text": [
      "None\n",
      "(<cell at 0x10db9b110: str object at 0x10db9b370>,)\n",
      "zen of python\n"
     ]
    }
   ],
   "source": [
    "print(print_msg.__closure__)\n",
    "print(another.__closure__)\n",
    "print(another.__closure__[0].cell_contents)"
   ]
  },
  {
   "cell_type": "markdown",
   "metadata": {},
   "source": [
    "### 闭包作用域\n",
    "\n",
    "现在我们在回顾下闭包作用域。闭包作用域是针对这些和闭包函数绑定的自由变量来说的。"
   ]
  },
  {
   "cell_type": "code",
   "execution_count": 17,
   "metadata": {},
   "outputs": [
    {
     "name": "stdout",
     "output_type": "stream",
     "text": [
      "outer\n",
      "inner_1\n",
      "hello world! This is inner_2\n",
      "free vars: x=outer, y=inner_1\n"
     ]
    },
    {
     "data": {
      "text/plain": [
       "'inner_1'"
      ]
     },
     "execution_count": 17,
     "metadata": {},
     "output_type": "execute_result"
    }
   ],
   "source": [
    "def outer(x):\n",
    "    def inner_1(y):\n",
    "        def inner_2(z):\n",
    "            \"\"\"inner doc\n",
    "            \"\"\"\n",
    "            print(\"hello world! This is\", z)\n",
    "            print(\"free vars: x={}, y={}\".format(x, y))\n",
    "        print(y)\n",
    "        return inner_2\n",
    "    print(x)\n",
    "    return inner_1\n",
    "\n",
    "f1 = outer(\"outer\")\n",
    "f = f1(\"inner_1\")\n",
    "f(\"inner_2\")\n",
    "\n",
    "# f1.__closure__[0].cell_contents\n",
    "f.__closure__[1].cell_contents\n",
    "# f.__code__\n"
   ]
  },
  {
   "cell_type": "markdown",
   "metadata": {},
   "source": [
    "### 闭包的应用\n",
    "\n",
    "闭包避免了使用全局变量，此外，闭包允许将函数与其所操作的某些数据（环境）关连起来。这一点与面向对象编程是非常类似的，在面对象编程中，对象允许我们将某些数据（对象的属性）与一个或者多个方法相关联。\n",
    "\n",
    "一般来说，当对象中只有一个方法时，这时使用闭包是更好的选择。来看一个例子："
   ]
  },
  {
   "cell_type": "code",
   "execution_count": 18,
   "metadata": {
    "scrolled": true
   },
   "outputs": [
    {
     "name": "stdout",
     "output_type": "stream",
     "text": [
      "25\n",
      "125\n"
     ]
    }
   ],
   "source": [
    "def pow_n(n):\n",
    "    def power(num):\n",
    "        return num ** n\n",
    "    return power\n",
    "\n",
    "square = pow_n(2)\n",
    "cube = pow_n(3)\n",
    "print(square(5))\n",
    "print(cube(5))"
   ]
  },
  {
   "cell_type": "markdown",
   "metadata": {},
   "source": [
    "这比用类来实现更优雅，此外**装饰器**也是基于闭包的一中应用场景。"
   ]
  },
  {
   "cell_type": "code",
   "execution_count": 19,
   "metadata": {},
   "outputs": [
    {
     "name": "stdout",
     "output_type": "stream",
     "text": [
      "call now():\n",
      "2015-3-25\n"
     ]
    }
   ],
   "source": [
    "def log(func):\n",
    "    def wrapper(*args, **kw):\n",
    "        print('call %s():' % func.__name__)\n",
    "        return func(*args, **kw)\n",
    "    return wrapper\n",
    "\n",
    "@log\n",
    "def now():\n",
    "    print('2015-3-25')\n",
    "    \n",
    "now()"
   ]
  },
  {
   "cell_type": "code",
   "execution_count": null,
   "metadata": {},
   "outputs": [],
   "source": []
  }
 ],
 "metadata": {
  "kernelspec": {
   "display_name": "Python 3",
   "language": "python",
   "name": "python3"
  },
  "language_info": {
   "codemirror_mode": {
    "name": "ipython",
    "version": 3
   },
   "file_extension": ".py",
   "mimetype": "text/x-python",
   "name": "python",
   "nbconvert_exporter": "python",
   "pygments_lexer": "ipython3",
   "version": "3.7.4"
  }
 },
 "nbformat": 4,
 "nbformat_minor": 2
}
